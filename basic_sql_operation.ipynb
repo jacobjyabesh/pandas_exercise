{
 "cells": [
  {
   "cell_type": "code",
   "execution_count": 1,
   "metadata": {},
   "outputs": [],
   "source": [
    "import os\n",
    "import pandas as pd\n",
    "import numpy as np"
   ]
  },
  {
   "cell_type": "code",
   "execution_count": 2,
   "metadata": {},
   "outputs": [],
   "source": [
    "#importing dataset\n",
    "df = pd.read_csv(os.path.join('dataset', \n",
    "                              'sales_data_sample.csv'),\n",
    "                 engine='python')"
   ]
  },
  {
   "cell_type": "code",
   "execution_count": 3,
   "metadata": {},
   "outputs": [
    {
     "name": "stdout",
     "output_type": "stream",
     "text": [
      "Index(['ORDERNUMBER', 'QUANTITYORDERED', 'PRICEEACH', 'ORDERLINENUMBER',\n",
      "       'SALES', 'ORDERDATE', 'STATUS', 'QTR_ID', 'MONTH_ID', 'YEAR_ID',\n",
      "       'PRODUCTLINE', 'MSRP', 'PRODUCTCODE', 'CUSTOMERNAME', 'PHONE',\n",
      "       'ADDRESSLINE1', 'ADDRESSLINE2', 'CITY', 'STATE', 'POSTALCODE',\n",
      "       'COUNTRY', 'TERRITORY', 'CONTACTLASTNAME', 'CONTACTFIRSTNAME',\n",
      "       'DEALSIZE'],\n",
      "      dtype='object')\n"
     ]
    }
   ],
   "source": [
    "# list all columns\n",
    "print(df.columns)"
   ]
  },
  {
   "cell_type": "code",
   "execution_count": 4,
   "metadata": {},
   "outputs": [
    {
     "name": "stdout",
     "output_type": "stream",
     "text": [
      "      ORDERNUMBER        ORDERDATE\n",
      "0           10107   2/24/2003 0:00\n",
      "1           10121    5/7/2003 0:00\n",
      "2           10134    7/1/2003 0:00\n",
      "3           10145   8/25/2003 0:00\n",
      "4           10159  10/10/2003 0:00\n",
      "...           ...              ...\n",
      "2818        10350   12/2/2004 0:00\n",
      "2819        10373   1/31/2005 0:00\n",
      "2820        10386    3/1/2005 0:00\n",
      "2821        10397   3/28/2005 0:00\n",
      "2822        10414    5/6/2005 0:00\n",
      "\n",
      "[2823 rows x 2 columns]\n"
     ]
    }
   ],
   "source": [
    "# select ordernumber and oderdate columns\n",
    "print(df[['ORDERNUMBER',\n",
    "          'ORDERDATE']])"
   ]
  },
  {
   "cell_type": "code",
   "execution_count": 5,
   "metadata": {},
   "outputs": [
    {
     "name": "stdout",
     "output_type": "stream",
     "text": [
      "   ORDERNUMBER        ORDERDATE\n",
      "0        10107   2/24/2003 0:00\n",
      "1        10121    5/7/2003 0:00\n",
      "2        10134    7/1/2003 0:00\n",
      "3        10145   8/25/2003 0:00\n",
      "4        10159  10/10/2003 0:00\n",
      "5        10168  10/28/2003 0:00\n",
      "6        10180  11/11/2003 0:00\n",
      "7        10188  11/18/2003 0:00\n",
      "8        10201   12/1/2003 0:00\n",
      "9        10211   1/15/2004 0:00\n"
     ]
    }
   ],
   "source": [
    "# select first 10 rows\n",
    "print(df[['ORDERNUMBER',\n",
    "          'ORDERDATE']].head(10))"
   ]
  },
  {
   "cell_type": "code",
   "execution_count": 6,
   "metadata": {},
   "outputs": [
    {
     "name": "stdout",
     "output_type": "stream",
     "text": [
      "      ORDERNUMBER        ORDERDATE\n",
      "2813        10293    9/9/2004 0:00\n",
      "2814        10306  10/14/2004 0:00\n",
      "2815        10315  10/29/2004 0:00\n",
      "2816        10327  11/10/2004 0:00\n",
      "2817        10337  11/21/2004 0:00\n",
      "2818        10350   12/2/2004 0:00\n",
      "2819        10373   1/31/2005 0:00\n",
      "2820        10386    3/1/2005 0:00\n",
      "2821        10397   3/28/2005 0:00\n",
      "2822        10414    5/6/2005 0:00\n"
     ]
    }
   ],
   "source": [
    "# select last 10 rows\n",
    "print(df[['ORDERNUMBER',\n",
    "          'ORDERDATE']].tail(10))"
   ]
  },
  {
   "cell_type": "code",
   "execution_count": 7,
   "metadata": {},
   "outputs": [
    {
     "name": "stdout",
     "output_type": "stream",
     "text": [
      "      ORDERNUMBER       ORDERDATE\n",
      "126         10350  12/2/2004 0:00\n",
      "955         10350  12/2/2004 0:00\n",
      "1008        10350  12/2/2004 0:00\n",
      "1085        10350  12/2/2004 0:00\n",
      "1310        10350  12/2/2004 0:00\n",
      "1611        10350  12/2/2004 0:00\n",
      "1840        10350  12/2/2004 0:00\n",
      "1964        10350  12/2/2004 0:00\n",
      "2270        10350  12/2/2004 0:00\n",
      "2399        10350  12/2/2004 0:00\n",
      "2426        10350  12/2/2004 0:00\n",
      "2478        10350  12/2/2004 0:00\n",
      "2529        10350  12/2/2004 0:00\n",
      "2609        10350  12/2/2004 0:00\n",
      "2712        10350  12/2/2004 0:00\n",
      "2738        10350  12/2/2004 0:00\n",
      "2818        10350  12/2/2004 0:00\n"
     ]
    }
   ],
   "source": [
    "# get details for order# 10350\n",
    "print(df[['ORDERNUMBER',\n",
    "          'ORDERDATE']][df['ORDERNUMBER']==10350])"
   ]
  },
  {
   "cell_type": "code",
   "execution_count": 8,
   "metadata": {},
   "outputs": [
    {
     "name": "stdout",
     "output_type": "stream",
     "text": [
      "[2003 2004 2005]\n"
     ]
    }
   ],
   "source": [
    "# get distinct year_id\n",
    "print(df['YEAR_ID'].unique())"
   ]
  },
  {
   "cell_type": "code",
   "execution_count": 9,
   "metadata": {},
   "outputs": [
    {
     "name": "stdout",
     "output_type": "stream",
     "text": [
      "21      10361\n",
      "48      10357\n",
      "75      10361\n",
      "126     10350\n",
      "127     10359\n",
      "        ...  \n",
      "2763    10352\n",
      "2764    10361\n",
      "2790    10352\n",
      "2791    10361\n",
      "2818    10350\n",
      "Name: ORDERNUMBER, Length: 110, dtype: int64\n"
     ]
    }
   ],
   "source": [
    "# Multiple condition select\n",
    "# select orders for Dec 2004\n",
    "print(df[(df['MONTH_ID']==12) & (df['YEAR_ID']==2004)]['ORDERNUMBER'])\n"
   ]
  },
  {
   "cell_type": "code",
   "execution_count": 10,
   "metadata": {},
   "outputs": [
    {
     "name": "stdout",
     "output_type": "stream",
     "text": [
      "      ORDERNUMBER       ORDERDATE\n",
      "578         10100   1/6/2003 0:00\n",
      "2024        10100   1/6/2003 0:00\n",
      "680         10100   1/6/2003 0:00\n",
      "1267        10100   1/6/2003 0:00\n",
      "728         10101   1/9/2003 0:00\n",
      "...           ...             ...\n",
      "2405        10425  5/31/2005 0:00\n",
      "393         10425  5/31/2005 0:00\n",
      "160         10425  5/31/2005 0:00\n",
      "780         10425  5/31/2005 0:00\n",
      "727         10425  5/31/2005 0:00\n",
      "\n",
      "[2823 rows x 2 columns]\n"
     ]
    }
   ],
   "source": [
    "# Sort based on order number\n",
    "print(df.sort_values(by=['ORDERNUMBER'])[['ORDERNUMBER','ORDERDATE']])\n"
   ]
  },
  {
   "cell_type": "code",
   "execution_count": 11,
   "metadata": {},
   "outputs": [
    {
     "name": "stdout",
     "output_type": "stream",
     "text": [
      "      ORDERNUMBER       ORDERDATE\n",
      "1667        10425  5/31/2005 0:00\n",
      "393         10425  5/31/2005 0:00\n",
      "780         10425  5/31/2005 0:00\n",
      "679         10425  5/31/2005 0:00\n",
      "1064        10425  5/31/2005 0:00\n",
      "...           ...             ...\n",
      "830         10101   1/9/2003 0:00\n",
      "1267        10100   1/6/2003 0:00\n",
      "578         10100   1/6/2003 0:00\n",
      "2024        10100   1/6/2003 0:00\n",
      "680         10100   1/6/2003 0:00\n",
      "\n",
      "[2823 rows x 2 columns]\n"
     ]
    }
   ],
   "source": [
    "# Descending order\n",
    "print(df.sort_values(by=['ORDERNUMBER'], ascending=False)[['ORDERNUMBER','ORDERDATE']])\n"
   ]
  },
  {
   "cell_type": "code",
   "execution_count": 12,
   "metadata": {},
   "outputs": [
    {
     "name": "stdout",
     "output_type": "stream",
     "text": [
      "      ORDERNUMBER        ORDERDATE\n",
      "0           10107   2/24/2003 0:00\n",
      "1           10121    5/7/2003 0:00\n",
      "2           10134    7/1/2003 0:00\n",
      "3           10145   8/25/2003 0:00\n",
      "4           10159  10/10/2003 0:00\n",
      "...           ...              ...\n",
      "2817        10337  11/21/2004 0:00\n",
      "2819        10373   1/31/2005 0:00\n",
      "2820        10386    3/1/2005 0:00\n",
      "2821        10397   3/28/2005 0:00\n",
      "2822        10414    5/6/2005 0:00\n",
      "\n",
      "[2801 rows x 2 columns]\n"
     ]
    }
   ],
   "source": [
    "# Get orders where order number is not 10350 or 10351\n",
    "print(df[['ORDERNUMBER',\n",
    "          'ORDERDATE']][~df['ORDERNUMBER'].isin([10350,10351])])\n"
   ]
  },
  {
   "cell_type": "code",
   "execution_count": 13,
   "metadata": {},
   "outputs": [
    {
     "name": "stdout",
     "output_type": "stream",
     "text": [
      "YEAR_ID\n",
      "2003    1000\n",
      "2004    1345\n",
      "2005     478\n",
      "dtype: int64\n"
     ]
    }
   ],
   "source": [
    "# Get total number of sales yearwise\n",
    "print(df.groupby(by=['YEAR_ID']).size())\n"
   ]
  },
  {
   "cell_type": "code",
   "execution_count": 14,
   "metadata": {},
   "outputs": [
    {
     "name": "stdout",
     "output_type": "stream",
     "text": [
      "YEAR_ID\n",
      "2003    34612\n",
      "2004    46824\n",
      "2005    17631\n",
      "Name: QUANTITYORDERED, dtype: int64\n"
     ]
    }
   ],
   "source": [
    "# Get total quantity of orders yearwise\n",
    "print(df.groupby(by=['YEAR_ID']).sum()['QUANTITYORDERED'])\n"
   ]
  },
  {
   "cell_type": "code",
   "execution_count": 15,
   "metadata": {},
   "outputs": [
    {
     "name": "stdout",
     "output_type": "stream",
     "text": [
      "         max  min       mean  count\n",
      "YEAR_ID                            \n",
      "2003      50   20  34.612000   1000\n",
      "2004      55   20  34.813383   1345\n",
      "2005      97    6  36.884937    478\n"
     ]
    }
   ],
   "source": [
    "# Get maximum, minimum, average and total number of order in a day yearwise\n",
    "print(df.groupby(by=['YEAR_ID'])['QUANTITYORDERED'].agg(['max', 'min', 'mean', 'count']))\n"
   ]
  },
  {
   "cell_type": "code",
   "execution_count": 16,
   "metadata": {},
   "outputs": [
    {
     "name": "stdout",
     "output_type": "stream",
     "text": [
      "YEAR_ID\n",
      "2005    17631\n",
      "2003    34612\n",
      "2004    46824\n",
      "Name: QUANTITYORDERED, dtype: int64\n"
     ]
    }
   ],
   "source": [
    "# Get total quantity of orders yearwise and arrange it in ascending order.\n",
    "print(df.groupby(by=['YEAR_ID']).sum().sort_values(by=['QUANTITYORDERED'])['QUANTITYORDERED'])\n"
   ]
  },
  {
   "cell_type": "code",
   "execution_count": 17,
   "metadata": {},
   "outputs": [
    {
     "name": "stdout",
     "output_type": "stream",
     "text": [
      "YEAR_ID\n",
      "2003    34612\n",
      "2004    46824\n",
      "Name: QUANTITYORDERED, dtype: int64\n"
     ]
    }
   ],
   "source": [
    "# Get total quantity of orders yearwise and print if orderquantity is greater than 30000\n",
    "grp = df.groupby(by=['YEAR_ID']).sum()\n",
    "print(grp[grp['QUANTITYORDERED'] > 30000]['QUANTITYORDERED'])\n"
   ]
  },
  {
   "cell_type": "code",
   "execution_count": null,
   "metadata": {},
   "outputs": [],
   "source": []
  }
 ],
 "metadata": {
  "kernelspec": {
   "display_name": "Python 3",
   "language": "python",
   "name": "python3"
  },
  "language_info": {
   "codemirror_mode": {
    "name": "ipython",
    "version": 3
   },
   "file_extension": ".py",
   "mimetype": "text/x-python",
   "name": "python",
   "nbconvert_exporter": "python",
   "pygments_lexer": "ipython3",
   "version": "3.7.6"
  }
 },
 "nbformat": 4,
 "nbformat_minor": 4
}
